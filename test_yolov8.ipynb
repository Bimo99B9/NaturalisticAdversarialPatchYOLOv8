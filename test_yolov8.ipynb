{
 "cells": [
  {
   "cell_type": "code",
   "execution_count": 7,
   "metadata": {},
   "outputs": [],
   "source": [
    "from ultralytics import YOLO\n",
    "import numpy as np\n",
    "import torch\n",
    "\n",
    "def get_default_device():\n",
    "    \"\"\"Pick GPU if available, else CPU\"\"\"\n",
    "    if torch.cuda.is_available():\n",
    "        return torch.device('cuda')\n",
    "    else:\n",
    "        return torch.device('cpu')"
   ]
  },
  {
   "cell_type": "code",
   "execution_count": 8,
   "metadata": {},
   "outputs": [
    {
     "name": "stdout",
     "output_type": "stream",
     "text": [
      "\n",
      "Found https://ultralytics.com/images/bus.jpg locally at bus.jpg\n",
      "image 1/1 c:\\Users\\danil\\Desktop\\Naturalistic-Adversarial-Patch\\bus.jpg: 640x480 4 persons, 1 bus, 1 stop sign, 106.0ms\n",
      "Speed: 4.0ms preprocess, 106.0ms inference, 2.0ms postprocess per image at shape (1, 3, 640, 480)\n"
     ]
    }
   ],
   "source": [
    "# Load models\n",
    "model_name = \"yolov8\"\n",
    "cls_id_attacked = 0\n",
    "cls_conf_threshold = 0.5\n",
    "batch_size = 1\n",
    "device = get_default_device()\n",
    "\n",
    "detector = YOLO(\"yolov8n.pt\")  # It will download locally the first time\n",
    "\n",
    "# Use the model\n",
    "results = detector(\"https://ultralytics.com/images/bus.jpg\")  # Predict on an image"
   ]
  },
  {
   "cell_type": "code",
   "execution_count": 9,
   "metadata": {},
   "outputs": [
    {
     "name": "stdout",
     "output_type": "stream",
     "text": [
      "Object 1 probability: tensor([0.8705], device='cuda:0')\n",
      "Object 2 probability: tensor([0.8690], device='cuda:0')\n",
      "Object 3 probability: tensor([0.8536], device='cuda:0')\n",
      "Object 4 probability: tensor([0.8193], device='cuda:0')\n",
      "Object 5 probability: tensor([0.3461], device='cuda:0')\n",
      "Object 6 probability: tensor([0.3013], device='cuda:0')\n"
     ]
    }
   ],
   "source": [
    "for i, box in enumerate(results[0].boxes):\n",
    "    obj_prob = box.conf\n",
    "    print(f\"Object {i+1} probability: {obj_prob}\")"
   ]
  },
  {
   "cell_type": "code",
   "execution_count": 10,
   "metadata": {},
   "outputs": [
    {
     "name": "stdout",
     "output_type": "stream",
     "text": [
      "\n",
      "Found https://ultralytics.com/images/bus.jpg locally at bus.jpg\n",
      "image 1/1 c:\\Users\\danil\\Desktop\\Naturalistic-Adversarial-Patch\\bus.jpg: 640x480 4 persons, 1 bus, 1 stop sign, 12.0ms\n",
      "Speed: 3.0ms preprocess, 12.0ms inference, 2.0ms postprocess per image at shape (1, 3, 640, 480)\n",
      "Boxes retrieved: [ultralytics.engine.results.Results object with attributes:\n",
      "\n",
      "boxes: ultralytics.engine.results.Boxes object\n",
      "keypoints: None\n",
      "masks: None\n",
      "names: {0: 'person', 1: 'bicycle', 2: 'car', 3: 'motorcycle', 4: 'airplane', 5: 'bus', 6: 'train', 7: 'truck', 8: 'boat', 9: 'traffic light', 10: 'fire hydrant', 11: 'stop sign', 12: 'parking meter', 13: 'bench', 14: 'bird', 15: 'cat', 16: 'dog', 17: 'horse', 18: 'sheep', 19: 'cow', 20: 'elephant', 21: 'bear', 22: 'zebra', 23: 'giraffe', 24: 'backpack', 25: 'umbrella', 26: 'handbag', 27: 'tie', 28: 'suitcase', 29: 'frisbee', 30: 'skis', 31: 'snowboard', 32: 'sports ball', 33: 'kite', 34: 'baseball bat', 35: 'baseball glove', 36: 'skateboard', 37: 'surfboard', 38: 'tennis racket', 39: 'bottle', 40: 'wine glass', 41: 'cup', 42: 'fork', 43: 'knife', 44: 'spoon', 45: 'bowl', 46: 'banana', 47: 'apple', 48: 'sandwich', 49: 'orange', 50: 'broccoli', 51: 'carrot', 52: 'hot dog', 53: 'pizza', 54: 'donut', 55: 'cake', 56: 'chair', 57: 'couch', 58: 'potted plant', 59: 'bed', 60: 'dining table', 61: 'toilet', 62: 'tv', 63: 'laptop', 64: 'mouse', 65: 'remote', 66: 'keyboard', 67: 'cell phone', 68: 'microwave', 69: 'oven', 70: 'toaster', 71: 'sink', 72: 'refrigerator', 73: 'book', 74: 'clock', 75: 'vase', 76: 'scissors', 77: 'teddy bear', 78: 'hair drier', 79: 'toothbrush'}\n",
      "obb: None\n",
      "orig_img: array([[[122, 148, 172],\n",
      "        [120, 146, 170],\n",
      "        [125, 153, 177],\n",
      "        ...,\n",
      "        [157, 170, 184],\n",
      "        [158, 171, 185],\n",
      "        [158, 171, 185]],\n",
      "\n",
      "       [[127, 153, 177],\n",
      "        [124, 150, 174],\n",
      "        [127, 155, 179],\n",
      "        ...,\n",
      "        [158, 171, 185],\n",
      "        [159, 172, 186],\n",
      "        [159, 172, 186]],\n",
      "\n",
      "       [[128, 154, 178],\n",
      "        [126, 152, 176],\n",
      "        [126, 154, 178],\n",
      "        ...,\n",
      "        [158, 171, 185],\n",
      "        [158, 171, 185],\n",
      "        [158, 171, 185]],\n",
      "\n",
      "       ...,\n",
      "\n",
      "       [[185, 185, 191],\n",
      "        [182, 182, 188],\n",
      "        [179, 179, 185],\n",
      "        ...,\n",
      "        [114, 107, 112],\n",
      "        [115, 105, 111],\n",
      "        [116, 106, 112]],\n",
      "\n",
      "       [[157, 157, 163],\n",
      "        [180, 180, 186],\n",
      "        [185, 186, 190],\n",
      "        ...,\n",
      "        [107,  97, 103],\n",
      "        [102,  92,  98],\n",
      "        [108,  98, 104]],\n",
      "\n",
      "       [[112, 112, 118],\n",
      "        [160, 160, 166],\n",
      "        [169, 170, 174],\n",
      "        ...,\n",
      "        [ 99,  89,  95],\n",
      "        [ 96,  86,  92],\n",
      "        [102,  92,  98]]], dtype=uint8)\n",
      "orig_shape: (1080, 810)\n",
      "path: 'c:\\\\Users\\\\danil\\\\Desktop\\\\Naturalistic-Adversarial-Patch\\\\bus.jpg'\n",
      "probs: None\n",
      "save_dir: None\n",
      "speed: {'preprocess': 3.0002593994140625, 'inference': 11.999845504760742, 'postprocess': 2.0055770874023438}]\n"
     ]
    }
   ],
   "source": [
    "# Obtain all bboxes\n",
    "if model_name == \"yolov8\":\n",
    "    bboxes = detector(\"https://ultralytics.com/images/bus.jpg\")\n",
    "\n",
    "print(f\"Boxes retrieved: {bboxes}\")"
   ]
  },
  {
   "cell_type": "code",
   "execution_count": 11,
   "metadata": {},
   "outputs": [
    {
     "name": "stdout",
     "output_type": "stream",
     "text": [
      "Labels: [[          0     0.18101     0.60267     0.24168     0.46596     0.86898]\n",
      " [          0     0.91366     0.58147     0.17233     0.45871      0.8536]\n",
      " [          0     0.34945     0.58481     0.15225     0.41815     0.81931]\n",
      " [          0    0.041423      0.6597    0.082846     0.29901     0.30129]]\n",
      "Labels rescale: [[          0     0.86898      48.739      399.26       244.5       902.5]\n",
      " [          0      0.8536      670.27      380.28      809.86      875.69]\n",
      " [          0     0.81931      221.39      405.79      344.72      857.39]\n",
      " [          0     0.30129           0      551.01      67.105      873.94]]\n"
     ]
    }
   ],
   "source": [
    "# Objective: Retrieve labels and labels_rescale in this format:\n",
    "labels = []  # format:  (label, x_center, y_center, w, h)  ex:(0 0.5 0.6 0.07 0.22)\n",
    "labels_rescale = (\n",
    "    []\n",
    ")  # format:  (label, confidence, left, top, right, bottom)  ex:(person 0.76 0.6 183.1 113.5 240.3 184.7)\n",
    "\n",
    "if len(bboxes) == batch_size:\n",
    "    bbox = bboxes[0]\n",
    "\n",
    "for b in bbox.boxes:\n",
    "    detected_class = int(b.cls.cpu().item())\n",
    "    orig_width, orig_height = bbox.boxes.orig_shape[1], bbox.boxes.orig_shape[0]\n",
    "    if detected_class == int(cls_id_attacked):\n",
    "        conf = b.conf.cpu().item()\n",
    "        # For labels: using xywh format\n",
    "        x_center, y_center, w, h = (\n",
    "            b.xywh[0][0].cpu().item() / orig_width,\n",
    "            b.xywh[0][1].cpu().item() / orig_height,\n",
    "            b.xywh[0][2].cpu().item() / orig_width,\n",
    "            b.xywh[0][3].cpu().item() / orig_height,\n",
    "        )\n",
    "        label = np.array(\n",
    "            [detected_class, x_center, y_center, w, h, conf], dtype=np.float32\n",
    "        )\n",
    "        labels.append(label)\n",
    "        # For labels_rescale: using xyxy format\n",
    "        left, top, right, bottom = (\n",
    "            b.xyxy[0][0].cpu().item(),\n",
    "            b.xyxy[0][1].cpu().item(),\n",
    "            b.xyxy[0][2].cpu().item(),\n",
    "            b.xyxy[0][3].cpu().item(),\n",
    "        )\n",
    "        label_rescale = np.array(\n",
    "            [detected_class, conf, left, top, right, bottom], dtype=np.float32\n",
    "        )\n",
    "        labels_rescale.append(label_rescale)\n",
    "\n",
    "labels = np.array(labels)\n",
    "labels_rescale = np.array(labels_rescale)\n",
    "\n",
    "print(f\"Labels: {labels}\")\n",
    "print(f\"Labels rescale: {labels_rescale}\")"
   ]
  },
  {
   "cell_type": "code",
   "execution_count": 12,
   "metadata": {},
   "outputs": [
    {
     "name": "stdout",
     "output_type": "stream",
     "text": [
      "\n",
      "Found https://ultralytics.com/images/bus.jpg locally at bus.jpg\n",
      "image 1/1 c:\\Users\\danil\\Desktop\\Naturalistic-Adversarial-Patch\\bus.jpg: 640x480 4 persons, 1 bus, 1 stop sign, 22.0ms\n",
      "Speed: 3.0ms preprocess, 22.0ms inference, 2.5ms postprocess per image at shape (1, 3, 640, 480)\n",
      "Loss Det: 0.7107957005500793\n"
     ]
    }
   ],
   "source": [
    "# Calculate loss_det\n",
    "target_class = cls_id_attacked\n",
    "\n",
    "results = detector(\"https://ultralytics.com/images/bus.jpg\")\n",
    "combined_probs = []\n",
    "for box in results[0].boxes:\n",
    "    obj_prob = box.conf.cpu()\n",
    "    if box.cls.cpu().item() == target_class:\n",
    "            combined_probs.append(obj_prob)\n",
    "if combined_probs:\n",
    "        loss_det = torch.mean(torch.stack(combined_probs))\n",
    "else:\n",
    "    loss_det = torch.tensor(0.0).to(device)\n",
    "\n",
    "print(f\"Loss Det: {loss_det}\")"
   ]
  }
 ],
 "metadata": {
  "kernelspec": {
   "display_name": "venv",
   "language": "python",
   "name": "python3"
  },
  "language_info": {
   "codemirror_mode": {
    "name": "ipython",
    "version": 3
   },
   "file_extension": ".py",
   "mimetype": "text/x-python",
   "name": "python",
   "nbconvert_exporter": "python",
   "pygments_lexer": "ipython3",
   "version": "3.8.10"
  }
 },
 "nbformat": 4,
 "nbformat_minor": 2
}
